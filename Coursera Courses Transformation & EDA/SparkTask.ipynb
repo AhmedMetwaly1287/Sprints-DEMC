{
 "cells": [
  {
   "cell_type": "code",
   "execution_count": 417,
   "metadata": {},
   "outputs": [],
   "source": [
    "from pyspark.sql import SparkSession\n",
    "from pyspark.sql.functions import *\n",
    "\n",
    "sparkApp = SparkSession.builder.appName(\"Spark Task\").getOrCreate()"
   ]
  },
  {
   "cell_type": "code",
   "execution_count": 418,
   "metadata": {},
   "outputs": [],
   "source": [
    "df = sparkApp.read.csv(\"dataset.csv\",header=True,inferSchema=True)"
   ]
  },
  {
   "cell_type": "code",
   "execution_count": 419,
   "metadata": {},
   "outputs": [
    {
     "name": "stdout",
     "output_type": "stream",
     "text": [
      "root\n",
      " |-- _c0: integer (nullable = true)\n",
      " |-- Title: string (nullable = true)\n",
      " |-- Organization: string (nullable = true)\n",
      " |-- Skills: string (nullable = true)\n",
      " |-- Ratings: double (nullable = true)\n",
      " |-- Review counts: string (nullable = true)\n",
      " |-- Metadata: string (nullable = true)\n",
      "\n"
     ]
    }
   ],
   "source": [
    "df.printSchema()"
   ]
  },
  {
   "cell_type": "code",
   "execution_count": 420,
   "metadata": {},
   "outputs": [
    {
     "data": {
      "text/plain": [
       "DataFrame[summary: string, _c0: string, Title: string, Organization: string, Skills: string, Ratings: string, Review counts: string, Metadata: string]"
      ]
     },
     "execution_count": 420,
     "metadata": {},
     "output_type": "execute_result"
    }
   ],
   "source": [
    "df.describe()"
   ]
  },
  {
   "cell_type": "code",
   "execution_count": 421,
   "metadata": {},
   "outputs": [
    {
     "name": "stdout",
     "output_type": "stream",
     "text": [
      "+---+--------------------+------------------+--------------------+-------+-----------------+--------------------+\n",
      "|_c0|               Title|      Organization|              Skills|Ratings|    Review counts|            Metadata|\n",
      "+---+--------------------+------------------+--------------------+-------+-----------------+--------------------+\n",
      "|  0|Google Cybersecurity|            Google| Network Security...|    4.8| 4.8(20K reviews)|Beginner · Profes...|\n",
      "|  1|Google Data Analy...|            Google| Data Analysis, R...|    4.8|4.8(137K reviews)|Beginner · Profes...|\n",
      "|  2|Google Project Ma...|            Google| Project Manageme...|    4.8|4.8(100K reviews)|Beginner · Profes...|\n",
      "|  3|    IBM Data Science|               IBM| Python Programmi...|    4.6|4.6(120K reviews)|Beginner · Profes...|\n",
      "|  4|Google Digital Ma...|            Google| Digital Marketin...|    4.8| 4.8(23K reviews)|Beginner · Profes...|\n",
      "|  5|    IBM Data Analyst|               IBM| Python Programmi...|    4.6| 4.6(73K reviews)|Beginner · Profes...|\n",
      "|  6|   Google IT Support|            Google| Computer Network...|    4.8|4.8(183K reviews)|Beginner · Profes...|\n",
      "|  7|    Machine Learning|Multiple educators| Machine Learning...|    4.9| 4.9(19K reviews)|Beginner · Specia...|\n",
      "|  8|    Google UX Design|            Google| User Experience,...|    4.8| 4.8(75K reviews)|Beginner · Profes...|\n",
      "|  9|IBM DevOps and So...|               IBM| DevOps, Software...|    4.6| 4.6(44K reviews)|Beginner · Profes...|\n",
      "+---+--------------------+------------------+--------------------+-------+-----------------+--------------------+\n",
      "only showing top 10 rows\n",
      "\n"
     ]
    }
   ],
   "source": [
    "df.show(10)"
   ]
  },
  {
   "cell_type": "code",
   "execution_count": 422,
   "metadata": {},
   "outputs": [
    {
     "name": "stdout",
     "output_type": "stream",
     "text": [
      "+------------------------------------------------------+-----+\n",
      "|Metadata                                              |count|\n",
      "+------------------------------------------------------+-----+\n",
      "|Beginner · Professional Certificate · 1 - 4 Weeks     |1    |\n",
      "|Intermediate · Guided Project · Less Than 2 Hours     |5    |\n",
      "|Beginner · Guided Project · Less Than 2 Hours         |14   |\n",
      "|Beginner · Course · 1 - 3 Months                      |88   |\n",
      "|Mixed · Course · 1 - 4 Weeks                          |13   |\n",
      "|Intermediate · Course · 1 - 3 Months                  |43   |\n",
      "|Intermediate · Specialization · 3 - 6 Months          |54   |\n",
      "|Advanced · Course · 1 - 3 Months                      |6    |\n",
      "|Beginner · Specialization · 1 - 3 Months              |17   |\n",
      "|Mixed · Course · 1 - 3 Months                         |25   |\n",
      "|Advanced · Specialization · 1 - 3 Months              |1    |\n",
      "|Beginner · Course · 1 - 4 Weeks                       |89   |\n",
      "|Beginner · Specialization · 3 - 6 Months              |138  |\n",
      "|Beginner · Project · Less Than 2 Hours                |1    |\n",
      "|Advanced · Course · 1 - 4 Weeks                       |5    |\n",
      "|Intermediate · Professional Certificate · 3 - 6 Months|13   |\n",
      "|Intermediate · Specialization · 1 - 3 Months          |9    |\n",
      "|Mixed · Course · 3 - 6 Months                         |1    |\n",
      "|Beginner · Professional Certificate · 3 - 6 Months    |65   |\n",
      "|Advanced · Specialization · 3 - 6 Months              |4    |\n",
      "+------------------------------------------------------+-----+\n",
      "only showing top 20 rows\n",
      "\n"
     ]
    }
   ],
   "source": [
    "valuesOfMetadata = df.groupBy('Metadata').count().show(truncate=False)"
   ]
  },
  {
   "cell_type": "code",
   "execution_count": 423,
   "metadata": {},
   "outputs": [],
   "source": [
    "#Selecting the columns needed for transformation\n",
    "revCounts = df.select('Review counts')\n",
    "metadata = df.select('Metadata')"
   ]
  },
  {
   "cell_type": "code",
   "execution_count": 424,
   "metadata": {},
   "outputs": [],
   "source": [
    "#Transforming the Review counts Column\n",
    "df = df.withColumn('Number of Reviews',((substring(df['Review counts'],5,2))*1000).cast(\"int\"))"
   ]
  },
  {
   "cell_type": "code",
   "execution_count": 425,
   "metadata": {},
   "outputs": [],
   "source": [
    "#Transforming the Metadata Column to create two new features (Difficulty - Duration (Min - Max))\n",
    "difficultyRet = df.withColumn('Diff1',split(df['Metadata'],'·').getItem(0)).withColumn('Diff2',split(df['Metadata'],'·').getItem(1))\n",
    "\n",
    "df = difficultyRet.withColumn('Difficulty',concat(col('Diff1'),lit('-'),col('Diff2'))).drop(*['Diff1','Diff2',])\n",
    "\n",
    "df = df.withColumn('Duration',split(df['Metadata'],'·').getItem(2)).drop(*['Review counts','Metadata'])\n",
    "\n",
    "df = df.withColumn('Min Duration',split(df['Duration'],'-').getItem(0).cast(\"int\"))\n",
    "\n",
    "maxDurationRet = df.withColumn('MaxDur TEMP',split(df['Duration'],'-').getItem(1))\n",
    "\n",
    "df = maxDurationRet.withColumn('Max Duration',substring(maxDurationRet['MaxDur TEMP'],1,2).cast(\"int\"))\n",
    "\n",
    "df = df.withColumn('Unit',trim(substring(maxDurationRet['MaxDur TEMP'],3,8)))\n"
   ]
  },
  {
   "cell_type": "code",
   "execution_count": 426,
   "metadata": {},
   "outputs": [
    {
     "name": "stdout",
     "output_type": "stream",
     "text": [
      "+---+--------------------+--------------------+--------------------+-------+-----------------+--------------------+------------+------------+------+\n",
      "|_c0|               Title|        Organization|              Skills|Ratings|Number of Reviews|          Difficulty|Min Duration|Max Duration|  Unit|\n",
      "+---+--------------------+--------------------+--------------------+-------+-----------------+--------------------+------------+------------+------+\n",
      "|  0|Google Cybersecurity|              Google| Network Security...|    4.8|            20000|Beginner - Profes...|           3|           6|Months|\n",
      "|  1|Google Data Analy...|              Google| Data Analysis, R...|    4.8|            13000|Beginner - Profes...|           3|           6|Months|\n",
      "|  2|Google Project Ma...|              Google| Project Manageme...|    4.8|            10000|Beginner - Profes...|           3|           6|Months|\n",
      "|  3|    IBM Data Science|                 IBM| Python Programmi...|    4.6|            12000|Beginner - Profes...|           3|           6|Months|\n",
      "|  4|Google Digital Ma...|              Google| Digital Marketin...|    4.8|            23000|Beginner - Profes...|           3|           6|Months|\n",
      "|  5|    IBM Data Analyst|                 IBM| Python Programmi...|    4.6|            73000|Beginner - Profes...|           3|           6|Months|\n",
      "|  6|   Google IT Support|              Google| Computer Network...|    4.8|            18000|Beginner - Profes...|           3|           6|Months|\n",
      "|  7|    Machine Learning|  Multiple educators| Machine Learning...|    4.9|            19000|Beginner - Specia...|           1|           3|Months|\n",
      "|  8|    Google UX Design|              Google| User Experience,...|    4.8|            75000|Beginner - Profes...|           3|           6|Months|\n",
      "|  9|IBM DevOps and So...|                 IBM| DevOps, Software...|    4.6|            44000|Beginner - Profes...|           3|           6|Months|\n",
      "| 10|      IBM Applied AI|                 IBM| Machine Learning...|    4.6|            47000|Beginner - Profes...|           3|           6|Months|\n",
      "| 11|IBM Full Stack So...|                 IBM| Cloud Computing,...|    4.6|            42000|Beginner - Profes...|           3|           6|Months|\n",
      "| 12|Introduction to D...|                 IBM| Data Science, Py...|    4.6|            86000|Beginner - Specia...|           3|           6|Months|\n",
      "| 13|Data Science Fund...|                 IBM| Python Programmi...|    4.6|            60000|Beginner - Specia...|           3|           6|Months|\n",
      "| 14|IBM Data Engineering|                 IBM| Data Management,...|    4.6|            47000|Beginner - Profes...|           3|           6|Months|\n",
      "| 15|Key Technologies ...|                 IBM| Algorithms, Appl...|    4.7|            83000|Beginner - Specia...|           1|           3|Months|\n",
      "| 16|IBM & Darden Digi...|University of Vir...| Business Analysi...|    4.7|            30000|Beginner - Specia...|           3|           6|Months|\n",
      "| 17|       Deep Learning|     DeepLearning.AI| Machine Learning...|    4.8|            14000|Intermediate - Sp...|           3|           6|Months|\n",
      "| 18|Data Engineering ...|                 IBM| Data Management,...|    4.6|            46000|Beginner - Specia...|           3|           6|Months|\n",
      "| 19|Applied Data Science|                 IBM| Python Programmi...|    4.6|            49000|Beginner - Specia...|           3|           6|Months|\n",
      "+---+--------------------+--------------------+--------------------+-------+-----------------+--------------------+------------+------------+------+\n",
      "only showing top 20 rows\n",
      "\n"
     ]
    }
   ],
   "source": [
    "#Creating the final, transformed Dataframe to carry out Analysis on\n",
    "finalDF = df.drop(*['Duration','MaxDur TEMP'])\n",
    "\n",
    "finalDF.show()"
   ]
  },
  {
   "cell_type": "code",
   "execution_count": 427,
   "metadata": {},
   "outputs": [
    {
     "name": "stdout",
     "output_type": "stream",
     "text": [
      "root\n",
      " |-- _c0: integer (nullable = true)\n",
      " |-- Title: string (nullable = true)\n",
      " |-- Organization: string (nullable = true)\n",
      " |-- Skills: string (nullable = true)\n",
      " |-- Ratings: double (nullable = true)\n",
      " |-- Number of Reviews: integer (nullable = true)\n",
      " |-- Difficulty: string (nullable = true)\n",
      " |-- Min Duration: integer (nullable = true)\n",
      " |-- Max Duration: integer (nullable = true)\n",
      " |-- Unit: string (nullable = true)\n",
      "\n"
     ]
    }
   ],
   "source": [
    "finalDF.printSchema()"
   ]
  },
  {
   "cell_type": "code",
   "execution_count": 428,
   "metadata": {},
   "outputs": [],
   "source": [
    "TransCSV = finalDF.write.csv('TransCSV',header=True,mode=\"Overwrite\")"
   ]
  },
  {
   "cell_type": "code",
   "execution_count": 429,
   "metadata": {},
   "outputs": [
    {
     "name": "stdout",
     "output_type": "stream",
     "text": [
      "+--------------------+------------------------+\n",
      "|        Organization|Number of Courses By Org|\n",
      "+--------------------+------------------------+\n",
      "|Advancing Women i...|                       1|\n",
      "|Akamai Technologi...|                       2|\n",
      "|Alibaba Cloud Aca...|                       1|\n",
      "| Amazon Web Services|                       7|\n",
      "|Arizona State Uni...|                       3|\n",
      "|Association of In...|                       1|\n",
      "|           Atlassian|                       1|\n",
      "|            Autodesk|                       1|\n",
      "|             Berklee|                       3|\n",
      "|California Instit...|                       3|\n",
      "|         Campus BBVA|                       1|\n",
      "|Cisco Learning an...|                       4|\n",
      "|               Codio|                       1|\n",
      "| Columbia University|                       3|\n",
      "|             CompTIA|                       1|\n",
      "|Copenhagen Busine...|                       2|\n",
      "|Coursera Project ...|                      19|\n",
      "|   Dartmouth College|                       1|\n",
      "|          Databricks|                       2|\n",
      "|Deep Teaching Sol...|                       2|\n",
      "+--------------------+------------------------+\n",
      "only showing top 20 rows\n",
      "\n"
     ]
    }
   ],
   "source": [
    "#Number of Courses provided by a certain organization\n",
    "\n",
    "numOfCoursesByOrg = finalDF\\\n",
    "    .groupBy('Organization')\\\n",
    "    .agg({'Organization':'Count'})\\\n",
    "    .orderBy('Organization')\\\n",
    "    .withColumnRenamed('count(Organization)','Number of Courses By Org')\\\n",
    "    .show()"
   ]
  },
  {
   "cell_type": "code",
   "execution_count": 430,
   "metadata": {},
   "outputs": [
    {
     "name": "stdout",
     "output_type": "stream",
     "text": [
      "+--------------------+----------------------------+\n",
      "|        Organization|Number of Courses Rated 4.5+|\n",
      "+--------------------+----------------------------+\n",
      "|Akamai Technologi...|                           2|\n",
      "|Alibaba Cloud Aca...|                           1|\n",
      "| Amazon Web Services|                           6|\n",
      "|Arizona State Uni...|                           3|\n",
      "|Association of In...|                           1|\n",
      "|           Atlassian|                           1|\n",
      "|            Autodesk|                           1|\n",
      "|             Berklee|                           3|\n",
      "|California Instit...|                           3|\n",
      "|         Campus BBVA|                           1|\n",
      "|Cisco Learning an...|                           3|\n",
      "|               Codio|                           1|\n",
      "| Columbia University|                           2|\n",
      "|             CompTIA|                           1|\n",
      "|Coursera Project ...|                           8|\n",
      "|   Dartmouth College|                           1|\n",
      "|Deep Teaching Sol...|                           2|\n",
      "|     DeepLearning.AI|                          22|\n",
      "|     Duke University|                          10|\n",
      "|          EC-Council|                           1|\n",
      "+--------------------+----------------------------+\n",
      "only showing top 20 rows\n",
      "\n"
     ]
    }
   ],
   "source": [
    "#Number of Courses provided by a certain organization with rating 4.5 and above\n",
    "\n",
    "numOfCoursesByOrg = finalDF\\\n",
    "    .filter(col('Ratings')>4.5)\\\n",
    "    .groupBy('Organization')\\\n",
    "    .agg({'Organization':'Count'})\\\n",
    "    .orderBy('Organization')\\\n",
    "    .withColumnRenamed('count(Organization)','Number of Courses Rated 4.5+')\\\n",
    "    .show()"
   ]
  },
  {
   "cell_type": "code",
   "execution_count": 431,
   "metadata": {},
   "outputs": [
    {
     "name": "stdout",
     "output_type": "stream",
     "text": [
      "+--------------------+--------------+\n",
      "|        Organization|Average Rating|\n",
      "+--------------------+--------------+\n",
      "|Akamai Technologi...|          4.95|\n",
      "|Alibaba Cloud Aca...|          4.60|\n",
      "| Amazon Web Services|          4.76|\n",
      "|Arizona State Uni...|          4.90|\n",
      "|Association of In...|          4.60|\n",
      "|           Atlassian|          4.70|\n",
      "|            Autodesk|          4.70|\n",
      "|             Berklee|          4.80|\n",
      "|California Instit...|          4.70|\n",
      "|         Campus BBVA|          4.70|\n",
      "|Cisco Learning an...|          4.67|\n",
      "|               Codio|          4.60|\n",
      "| Columbia University|          4.70|\n",
      "|             CompTIA|          4.60|\n",
      "|   Dartmouth College|          4.60|\n",
      "|Deep Teaching Sol...|          4.85|\n",
      "|     DeepLearning.AI|          4.75|\n",
      "|     Duke University|          4.57|\n",
      "|          EC-Council|          4.55|\n",
      "|EDHEC Business Sc...|          4.60|\n",
      "+--------------------+--------------+\n",
      "only showing top 20 rows\n",
      "\n"
     ]
    }
   ],
   "source": [
    "#Average rating of courses provided by a certain Organization and Filtering with Organizations with Ratings above 4.5\n",
    "\n",
    "avgRatingOfOrg = finalDF\\\n",
    "    .select('Organization','Ratings')\\\n",
    "    .groupBy('Organization')\\\n",
    "    .agg({'Ratings':'avg'})\\\n",
    "    .orderBy('Organization')\\\n",
    "    .withColumn('Average Rating',format_number(col('avg(Ratings)'),2))\\\n",
    "    .drop('avg(Ratings)')\\\n",
    "    .filter(col('Average Rating')>4.50)\\\n",
    "    .show()"
   ]
  },
  {
   "cell_type": "code",
   "execution_count": 432,
   "metadata": {},
   "outputs": [
    {
     "name": "stdout",
     "output_type": "stream",
     "text": [
      "+--------------------+-------+-----------------+\n",
      "|               Title|Ratings|Number of Reviews|\n",
      "+--------------------+-------+-----------------+\n",
      "|(ISC)² Systems Se...|    4.7|            54000|\n",
      "|API Security on G...|    4.6|            81000|\n",
      "|Architecting with...|    4.7|            57000|\n",
      "|Auditing I: Conce...|    4.7|            52000|\n",
      "|Automate Cybersec...|    4.8|            91000|\n",
      "|Blockchain Revolu...|    4.7|            93000|\n",
      "|Business Transfor...|    4.6|            89000|\n",
      "|Cloud Systems Sof...|    4.6|            77000|\n",
      "|Create a Profile ...|    4.7|            71000|\n",
      "|Cybersécurité Google|    4.7|            67000|\n",
      "|Data Science Codi...|    4.7|            54000|\n",
      "|Data Science Fund...|    4.6|            60000|\n",
      "|Devenir entrepren...|    4.7|            59000|\n",
      "|Excel Skills for ...|    4.9|            59000|\n",
      "|Faster Together, ...|    4.8|            97000|\n",
      "|FinTech Law and P...|    4.8|            81000|\n",
      "|FinTech: Finance ...|    4.7|            77000|\n",
      "|Finance for Techn...|    4.7|            95000|\n",
      "|Foundations of Bu...|    4.8|            78000|\n",
      "|Foundations of Da...|    4.6|            62000|\n",
      "+--------------------+-------+-----------------+\n",
      "only showing top 20 rows\n",
      "\n"
     ]
    }
   ],
   "source": [
    "#Courses with ratings above 4.5 and over 50K Reviews\n",
    "\n",
    "highRatedCourses = finalDF\\\n",
    "    .select('Title','Ratings','Number of Reviews')\\\n",
    "    .filter(col('Ratings')>4.50)\\\n",
    "    .filter(col('Number of Reviews')>50000)\\\n",
    "    .orderBy('Title')\\\n",
    "    .show()"
   ]
  },
  {
   "cell_type": "code",
   "execution_count": 433,
   "metadata": {},
   "outputs": [
    {
     "name": "stdout",
     "output_type": "stream",
     "text": [
      "+---------------------------------------------+------------------------------------+\n",
      "|Title                                        |Difficulty                          |\n",
      "+---------------------------------------------+------------------------------------+\n",
      "|Google Cybersecurity                         |Beginner - Professional Certificate |\n",
      "|Google Data Analytics                        |Beginner - Professional Certificate |\n",
      "|Google Project Management:                   |Beginner - Professional Certificate |\n",
      "|IBM Data Science                             |Beginner - Professional Certificate |\n",
      "|Google Digital Marketing & E-commerce        |Beginner - Professional Certificate |\n",
      "|IBM Data Analyst                             |Beginner - Professional Certificate |\n",
      "|Google IT Support                            |Beginner - Professional Certificate |\n",
      "|Machine Learning                             |Beginner - Specialization           |\n",
      "|Google UX Design                             |Beginner - Professional Certificate |\n",
      "|IBM DevOps and Software Engineering          |Beginner - Professional Certificate |\n",
      "|IBM Applied AI                               |Beginner - Professional Certificate |\n",
      "|IBM Full Stack Software Developer            |Beginner - Professional Certificate |\n",
      "|Introduction to Data Science                 |Beginner - Specialization           |\n",
      "|Data Science Fundamentals with Python and SQL|Beginner - Specialization           |\n",
      "|IBM Data Engineering                         |Beginner - Professional Certificate |\n",
      "|Key Technologies for Business                |Beginner - Specialization           |\n",
      "|IBM & Darden Digital Strategy                |Beginner - Specialization           |\n",
      "|Data Engineering Foundations                 |Beginner - Specialization           |\n",
      "|Applied Data Science                         |Beginner - Specialization           |\n",
      "|IBM Back-End Development                     |Beginner - Professional Certificate |\n",
      "+---------------------------------------------+------------------------------------+\n",
      "only showing top 20 rows\n",
      "\n",
      "Number of courses suitable for beginners: 413\n"
     ]
    }
   ],
   "source": [
    "#Courses suitable for Beginners\n",
    "beginnerCourses = finalDF\\\n",
    "    .select('Title','Difficulty')\\\n",
    "    .filter(col('Difficulty')\\\n",
    "    .startswith(\"Beginner\"))\\\n",
    "    .show(truncate=False)\n",
    "#Number of them\n",
    "numOfBeginnerCourses = finalDF\\\n",
    "    .select('Title','Difficulty')\\\n",
    "    .filter(col('Difficulty')\\\n",
    "    .startswith(\"Beginner\"))\\\n",
    "    .count()\n",
    "print(f\"Number of courses suitable for beginners: {numOfBeginnerCourses}\")\n",
    "\n"
   ]
  },
  {
   "cell_type": "code",
   "execution_count": 438,
   "metadata": {},
   "outputs": [
    {
     "name": "stdout",
     "output_type": "stream",
     "text": [
      "+----------------------------------------------------------+---------------+------------+------------+-----+\n",
      "|Title                                                     |Organization   |Min Duration|Max Duration|Unit |\n",
      "+----------------------------------------------------------+---------------+------------+------------+-----+\n",
      "|Generative AI with Large Language Models                  |DeepLearning.AI|1           |4           |Weeks|\n",
      "|Generative AI for Everyone                                |DeepLearning.AI|1           |4           |Weeks|\n",
      "|Foundations of Cybersecurity                              |Google         |1           |4           |Weeks|\n",
      "|Foundations of Project Management                         |Google         |1           |4           |Weeks|\n",
      "|Supervised Machine Learning: Regression and Classification|DeepLearning.AI|1           |4           |Weeks|\n",
      "|AI For Everyone                                           |DeepLearning.AI|1           |4           |Weeks|\n",
      "|Foundations of Digital Marketing and E-commerce           |Google         |1           |4           |Weeks|\n",
      "|Play It Safe: Manage Security Risks                       |Google         |1           |4           |Weeks|\n",
      "|Foundations of User Experience (UX) Design                |Google         |1           |4           |Weeks|\n",
      "|Project Initiation: Starting a Successful Project         |Google         |1           |4           |Weeks|\n",
      "|Ask Questions to Make Data-Driven Decisions               |Google         |1           |4           |Weeks|\n",
      "|Advanced Learning Algorithms                              |DeepLearning.AI|1           |4           |Weeks|\n",
      "|Connect and Protect: Networks and Network Security        |Google         |1           |4           |Weeks|\n",
      "|Neural Networks and Deep Learning                         |DeepLearning.AI|1           |4           |Weeks|\n",
      "|Introduction to Generative AI                             |Google Cloud   |1           |4           |Weeks|\n",
      "|Tools of the Trade: Linux and SQL                         |Google         |1           |4           |Weeks|\n",
      "|Attract and Engage Customers with Digital Marketing       |Google         |1           |4           |Weeks|\n",
      "|Linear Algebra for Machine Learning and Data Science      |DeepLearning.AI|1           |4           |Weeks|\n",
      "|What is Data Science?                                     |IBM            |1           |4           |Weeks|\n",
      "|Start the UX Design Process: Empathize, Define, and Ideate|Google         |1           |4           |Weeks|\n",
      "+----------------------------------------------------------+---------------+------------+------------+-----+\n",
      "only showing top 20 rows\n",
      "\n"
     ]
    }
   ],
   "source": [
    "#List of Courses that would take weeks to complete\n",
    "shortCourses = finalDF\\\n",
    "    .select('Title','Organization','Min Duration','Max Duration','Unit')\\\n",
    "    .filter(col('Unit')=='Weeks')\\\n",
    "    .show(truncate=False)"
   ]
  },
  {
   "cell_type": "code",
   "execution_count": 435,
   "metadata": {},
   "outputs": [],
   "source": [
    "#Creating a Temporary View to carry out SparkSQL Queries on\n",
    "finalDF.createOrReplaceTempView(\"analysis\")"
   ]
  },
  {
   "cell_type": "code",
   "execution_count": 436,
   "metadata": {},
   "outputs": [
    {
     "name": "stdout",
     "output_type": "stream",
     "text": [
      "+-------------------------------------------------------------------------+-------+\n",
      "|RatedDataCourses                                                         |Ratings|\n",
      "+-------------------------------------------------------------------------+-------+\n",
      "|ChatGPT Advanced Data Analysis                                           |4.9    |\n",
      "|Python Data Structures                                                   |4.9    |\n",
      "|Data Visualization with Advanced Excel                                   |4.8    |\n",
      "|Foundations: Data, Data, Everywhere                                      |4.8    |\n",
      "|Google Data Analytics                                                    |4.8    |\n",
      "|Introduction to Data Analytics                                           |4.8    |\n",
      "|Process Data from Dirty to Clean                                         |4.8    |\n",
      "|Data Analysis with R Programming                                         |4.8    |\n",
      "|Excel Basics for Data Analysis                                           |4.8    |\n",
      "|Calculus for Machine Learning and Data Science                           |4.8    |\n",
      "|Excel Skills for Data Analytics and Visualization                        |4.8    |\n",
      "|Data Analytics for Lean Six Sigma                                        |4.8    |\n",
      "|Data Visualization & Dashboarding with R                                 |4.8    |\n",
      "|Ciclo completo del desarrollo de un proyecto de Data Science             |4.8    |\n",
      "|Statistical Inference and Hypothesis Testing in Data Science Applications|4.8    |\n",
      "|Prepare Data for Exploration                                             |4.8    |\n",
      "|Data Science Project: MATLAB for the Real World                          |4.8    |\n",
      "|Innovating with Data and Google Cloud                                    |4.8    |\n",
      "|Microsoft Azure Data Fundamentals DP-900 Exam Prep                       |4.7    |\n",
      "|Process Mining: Data science in Action                                   |4.7    |\n",
      "+-------------------------------------------------------------------------+-------+\n",
      "only showing top 20 rows\n",
      "\n"
     ]
    }
   ],
   "source": [
    "#Retrieving all High Rated Data-Related Courses\n",
    "\n",
    "ratedDataCourses = sparkApp.sql(\"SELECT Title AS RatedDataCourses, Ratings FROM analysis WHERE Title LIKE '%Data%' AND Ratings >= 4.5 ORDER BY Ratings DESC;\")\n",
    "\n",
    "ratedDataCourses.show(truncate=False)"
   ]
  },
  {
   "cell_type": "code",
   "execution_count": 437,
   "metadata": {},
   "outputs": [
    {
     "name": "stdout",
     "output_type": "stream",
     "text": [
      "+--------------------------+--------------------------------------------+-------+-----------------+\n",
      "|Organization              |CourseName                                  |Ratings|Number of Reviews|\n",
      "+--------------------------+--------------------------------------------+-------+-----------------+\n",
      "|Johns Hopkins University  |GPU Programming                             |2.8    |72000            |\n",
      "|Microsoft                 |Perform data science with Azure Databricks  |3.4    |44000            |\n",
      "|Fractal Analytics         |Python for Data Science                     |3.7    |29000            |\n",
      "|University of Pennsylvania|Fundamentals of Finance                     |3.9    |84000            |\n",
      "|Howard University         |Linear Algebra for Data Science Using Python|3.9    |28000            |\n",
      "|Coursera Project Network  |Statistics For Data Science                 |4.0    |19000            |\n",
      "|Duke University           |MLOps | Machine Learning Operations         |4.0    |15000            |\n",
      "|Johns Hopkins University  |Command Line Tools for Genomic Data Science |4.0    |54000            |\n",
      "|IBM                       |Developing Cloud Apps with Node.js and React|4.0    |22000            |\n",
      "|Nanjing University        |Data Processing Using Python                |4.1    |33000            |\n",
      "+--------------------------+--------------------------------------------+-------+-----------------+\n",
      "\n"
     ]
    }
   ],
   "source": [
    "#Courses with Low Ratings\n",
    "badRatedCourses = sparkApp.sql('SELECT Organization,Title as CourseName, Ratings, `Number of Reviews` FROM analysis ORDER BY Ratings ASC LIMIT 10;')\n",
    "\n",
    "badRatedCourses.show(truncate=False)"
   ]
  }
 ],
 "metadata": {
  "kernelspec": {
   "display_name": "Python 3",
   "language": "python",
   "name": "python3"
  },
  "language_info": {
   "codemirror_mode": {
    "name": "ipython",
    "version": 3
   },
   "file_extension": ".py",
   "mimetype": "text/x-python",
   "name": "python",
   "nbconvert_exporter": "python",
   "pygments_lexer": "ipython3",
   "version": "3.8.0"
  }
 },
 "nbformat": 4,
 "nbformat_minor": 2
}
